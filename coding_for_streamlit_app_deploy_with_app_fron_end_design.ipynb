{
  "nbformat": 4,
  "nbformat_minor": 0,
  "metadata": {
    "colab": {
      "provenance": []
    },
    "kernelspec": {
      "name": "python3",
      "display_name": "Python 3"
    },
    "language_info": {
      "name": "python"
    }
  },
  "cells": [
    {
      "cell_type": "code",
      "source": [
        "#Save the model\n",
        "with open('model save name.pkl', 'wb') as pkl:\n",
        "    pickle.dump(model,pkl)"
      ],
      "metadata": {
        "id": "MMWkJpKtlY_Y"
      },
      "execution_count": null,
      "outputs": []
    },
    {
      "cell_type": "code",
      "source": [
        "#requirements.txt\n",
        "streamlit\n",
        "pandas\n",
        "scikit-learn\n",
        "numpy"
      ],
      "metadata": {
        "id": "09cwmax6mIYH"
      },
      "execution_count": null,
      "outputs": []
    },
    {
      "cell_type": "code",
      "execution_count": null,
      "metadata": {
        "id": "hrrajlRojstG"
      },
      "outputs": [],
      "source": [
        "import streamlit as st\n",
        "import pickle\n",
        "\n",
        "\n",
        "def main():\n",
        "    bg = \"\"\"<div style='background-color:black; padding:13px'>\n",
        "              <h1 style='color:black'>Title for appp</h1>\n",
        "       </div>\"\"\"\n",
        "    st.markdown(bg, unsafe_allow_html=True)\n",
        "\n",
        "    left, right = st.columns((2,2))\n",
        "\n",
        "    #Show all the indelependent columns along with the label for each column and the values in that column\"\n",
        "\n",
        "\n",
        "    #Example:\n",
        "    '''\n",
        "    Gender = left.selectbox('Gender', ('Male', 'Female'))\n",
        "    Married = right.selectbox('Married', ('Yes', 'No'))\n",
        "    Self_Employed = left.selectbox('Self-Employed', ('Yes', 'No'))\n",
        "    Property_Area = st.selectbox('Property Area', ('Semiurban', 'Urban', 'Rural'))\n",
        "    button = st.button('Predict')\n",
        "    '''\n",
        "\n",
        "    # if button is clicked\n",
        "    if button:\n",
        "        # make prediction\n",
        "        result = predict(#add all the seelctbox labels created separated by commas)\n",
        "        st.success(f'You are {result} for the loan')\n",
        "\n",
        "# load the train model\n",
        "with open('model save name.pkl', 'rb') as pkl:\n",
        "    train_model = pickle.load(pkl)\n",
        "\n",
        "\n",
        "\n",
        "'''Example for predict function\n",
        "\n",
        "\n",
        "\n",
        "def predict(gender, married, dependent, education, self_employed, applicant_income,\n",
        "           coApplicantIncome, loanAmount, loan_amount_term, creditHistory, propertyArea):\n",
        "    # processing user input\n",
        "    gen = 0 if gender == 'Male' else 1\n",
        "    mar = 0 if married == 'Yes' else 1\n",
        "    dep = float(0 if dependent == 'None' else 1 if dependent == 'One' else 2 if dependent == 'Two' else 3)\n",
        "    edu = 0 if education == 'Graduate' else 1\n",
        "    sem = 0 if self_employed == 'Yes' else 1\n",
        "    pro = 0 if propertyArea == 'Semiurban' else 1 if propertyArea == 'Urban' else 2\n",
        "    Lam = loanAmount / 1000\n",
        "    cap = coApplicantIncome / 1000\n",
        "    # making predictions\n",
        "    prediction = train_model.predict([[gen, mar, dep, edu, sem, applicant_income, cap,\n",
        "                                      Lam, loan_amount_term, creditHistory, pro]])\n",
        "    verdict = 'Not Eligible' if prediction == 0 else 'Eligible'\n",
        "    return verdict\n",
        "\n",
        "'''\n",
        "\n",
        "\n",
        "\n",
        "\n",
        "\n",
        "\n",
        "if __name__ == '__main__':\n",
        "    main()\n"
      ]
    }
  ]
}